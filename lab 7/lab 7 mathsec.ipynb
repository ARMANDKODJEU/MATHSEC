{
 "cells": [
  {
   "cell_type": "markdown",
   "id": "4f37fede-e4e2-4519-a73d-c3be15da1d33",
   "metadata": {},
   "source": [
    "<ul>\n",
    "<li><h3> Кодже Лемонго Арман </h3></li>\n",
    "<li><h3> НФИмд-01-24 </h3></li>\n",
    "<li><h3> Билет № 1032245759 </h3></li>\n",
    "</ul>"
   ]
  },
  {
   "cell_type": "markdown",
   "id": "5a81fed8-2449-43a3-8b05-94fd45404c45",
   "metadata": {},
   "source": [
    "<h3> Лабораторная работа №7 : </h3> <p>Дискретное логарифмирование в конечном поле</p> "
   ]
  },
  {
   "cell_type": "code",
   "execution_count": 7,
   "id": "23362c14-7410-4e81-bab5-eff8cd4db3b6",
   "metadata": {},
   "outputs": [],
   "source": [
    "def ext_euclid(a, b):\n",
    "    # Extended Euclidean Algorithm\n",
    "    # param a, param b:\n",
    "    if b == 0:\n",
    "        return a, 1, 0\n",
    "    else:\n",
    "        d, xx, yy = ext_euclid(b, a % b)\n",
    "        x = yy\n",
    "        y = xx - (a // b) * yy\n",
    "        return d, x, y"
   ]
  },
  {
   "cell_type": "code",
   "execution_count": 14,
   "id": "08e9974e-8692-4473-ab29-6f666421b400",
   "metadata": {},
   "outputs": [],
   "source": [
    "def inverse(a, n):\n",
    "    #Inverse of a in mod n\n",
    "    #param a, param n:\n",
    "    return ext_euclid(a, n)[1]"
   ]
  },
  {
   "cell_type": "code",
   "execution_count": 19,
   "id": "120bb146-523e-4d79-bcd2-8fbdae48b093",
   "metadata": {},
   "outputs": [],
   "source": [
    "def xab(x, a, b, xxx_todo_changeme):\n",
    "    # Pollard Step\n",
    "    # param x, param a, param b:\n",
    "  \n",
    "    (G, H, P, Q) = xxx_todo_changeme\n",
    "    sub = x % 3 # Subsets\n",
    "\n",
    "    if sub == 0:\n",
    "        x = x*xxx_todo_changeme[0] % xxx_todo_changeme[2]\n",
    "        a = (a+1) % Q\n",
    "\n",
    "    if sub == 1:\n",
    "        x = x * xxx_todo_changeme[1] % xxx_todo_changeme[2]\n",
    "        b = (b + 1) % xxx_todo_changeme[2]\n",
    "\n",
    "    if sub == 2:\n",
    "        x = x*x % xxx_todo_changeme[2]\n",
    "        a = a*2 % xxx_todo_changeme[3]\n",
    "        b = b*2 % xxx_todo_changeme[3]\n",
    "\n",
    "    return x, a, b"
   ]
  },
  {
   "cell_type": "code",
   "execution_count": 23,
   "id": "e1477e4f-9967-4bff-9c18-da2bcb378ff7",
   "metadata": {},
   "outputs": [],
   "source": [
    "def pollard(G, H, P):\n",
    "\n",
    "    Q = int((P - 1) // 2)  # подгруппа\n",
    "\n",
    "    x = G*H\n",
    "    a = 1\n",
    "    b = 1\n",
    "\n",
    "    X = x\n",
    "    A = a\n",
    "    B = b\n",
    "\n",
    "    # Не используйте здесь range(). Это делает алгоритм удивительно медленным.\n",
    "    for i in range(1, P):\n",
    "        # Кому нужна сквозная ссылка, когда у вас есть Python!!! ;)\n",
    "        # Hedgehog\n",
    "        x, a, b = xab(x, a, b, (G, H, P, Q))\n",
    "        # Rabbit\n",
    "        X, A, B = xab(X, A, B, (G, H, P, Q))\n",
    "        X, A, B = xab(X, A, B, (G, H, P, Q))\n",
    "        if x == X:\n",
    "            break\n",
    "\n",
    "    nom = a-A\n",
    "    denom = B-b\n",
    "\n",
    "    # print nom, denom\n",
    "    # Для правильного вычисления дроби необходимо вычислить обратное значение mod q\n",
    "    res = (inverse(denom, Q) * nom) % Q\n",
    "\n",
    "    # так никто не делает но все же...\n",
    "    if verify(G, H, P, res):\n",
    "        return res\n",
    "\n",
    "    return res + Q"
   ]
  },
  {
   "cell_type": "code",
   "execution_count": 26,
   "id": "4899665e-3b8c-4083-93e5-1ca40243bc7f",
   "metadata": {},
   "outputs": [],
   "source": [
    "def verify(g, h, p, x):\n",
    "    # Проверяет заданный набор значений g, h, p и x\n",
    "    return pow(g, x, p) == h\n",
    "\n",
    "args = [\n",
    "    (10, 64, 107),\n",
    "]"
   ]
  },
  {
   "cell_type": "code",
   "execution_count": 32,
   "id": "28d4c106-5532-4a7e-98c4-550fd830a291",
   "metadata": {},
   "outputs": [
    {
     "name": "stdout",
     "output_type": "stream",
     "text": [
      "(10, 64, 107) :  20\n",
      "Validates:  True\n",
      "\n"
     ]
    }
   ],
   "source": [
    "for arg in args:\n",
    "    res = pollard(*arg)\n",
    "    print(arg, ': ', res)\n",
    "    print(\"Validates: \", verify(arg[0], arg[1], arg[2], res))\n",
    "    print()"
   ]
  },
  {
   "cell_type": "code",
   "execution_count": null,
   "id": "5e59e473-bb30-40d7-a27d-e1c3c81a0000",
   "metadata": {},
   "outputs": [],
   "source": []
  }
 ],
 "metadata": {
  "kernelspec": {
   "display_name": "Python 3 (ipykernel)",
   "language": "python",
   "name": "python3"
  },
  "language_info": {
   "codemirror_mode": {
    "name": "ipython",
    "version": 3
   },
   "file_extension": ".py",
   "mimetype": "text/x-python",
   "name": "python",
   "nbconvert_exporter": "python",
   "pygments_lexer": "ipython3",
   "version": "3.12.0"
  }
 },
 "nbformat": 4,
 "nbformat_minor": 5
}
