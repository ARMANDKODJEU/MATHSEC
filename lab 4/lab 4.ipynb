{
 "cells": [
  {
   "cell_type": "code",
   "execution_count": 3,
   "id": "3f9c77d8-dc45-4d3d-b641-2b972859fedc",
   "metadata": {},
   "outputs": [],
   "source": [
    "# Функция уменьшает число до тех пор пока одно на них не станет нулем\n",
    "# практически для этого используется цикл"
   ]
  },
  {
   "cell_type": "code",
   "execution_count": 1,
   "id": "8b943017-f972-4253-93f2-21683e164659",
   "metadata": {},
   "outputs": [],
   "source": [
    "def euklid_simply(a, b):\n",
    "    while a!=0 and b!=0:\n",
    "        if a>=b:\n",
    "            a %= b\n",
    "        else:\n",
    "            b %= a\n",
    "    return a or b"
   ]
  },
  {
   "cell_type": "code",
   "execution_count": null,
   "id": "f8c79576-d56f-4744-9629-21d24d5689b6",
   "metadata": {},
   "outputs": [],
   "source": [
    "# функция расширенного евклида \n",
    "# ax + by = gcd(a,b)\n",
    "#алгоритм находит над и его линейное предстовление"
   ]
  },
  {
   "cell_type": "code",
   "execution_count": 18,
   "id": "175f690e-21ce-4b47-8d86-d0c54dfe91ef",
   "metadata": {},
   "outputs": [],
   "source": [
    "def euklid_ext(a, b):\n",
    "    if a == 0:\n",
    "        return(b, 0, 1)\n",
    "    else:\n",
    "        div, x, y = euklid_ext(b%a, a)\n",
    "    return (div, y-(b//a)*x, x)"
   ]
  },
  {
   "cell_type": "code",
   "execution_count": null,
   "id": "3703cb77-5c76-42f8-8695-54ebb5d9a6c8",
   "metadata": {},
   "outputs": [],
   "source": []
  },
  {
   "cell_type": "code",
   "execution_count": 2,
   "id": "d86bbb5f-0b93-4cd3-a43a-6909a3129081",
   "metadata": {},
   "outputs": [],
   "source": [
    "# Функция бинарного евклида\n",
    "def euklid_bin(a, b):\n",
    "    g = 1 # переменная для подсчета \n",
    "    # согласно условиям пунктам задачи мы все делаем по пунктам\n",
    "    while(a%2 == 0 and b%2 == 0):\n",
    "        a = a/2\n",
    "        b = b/2\n",
    "        g = 2*g\n",
    "    u,v = a,b\n",
    "    while u!=0:\n",
    "        if u%2 == 0:\n",
    "            u = u/2\n",
    "        if v%2 == 0:\n",
    "            v = v/2\n",
    "        if u>=v:\n",
    "            u = u-v\n",
    "        else:\n",
    "            v = v-u\n",
    "    d = g*v\n",
    "    return d"
   ]
  },
  {
   "cell_type": "code",
   "execution_count": null,
   "id": "db90cc02-26db-49b9-b4ca-a83432d269dc",
   "metadata": {},
   "outputs": [],
   "source": []
  },
  {
   "cell_type": "code",
   "execution_count": 5,
   "id": "fdd31626-3d48-477d-830a-114b519998e5",
   "metadata": {},
   "outputs": [],
   "source": [
    "# функция расширенного бинарного евклида \n",
    "def euklid_bin_ext(a, b):\n",
    "    g = 1\n",
    "    # переменная для подсчета \n",
    "    # выполняем все согласно алгоритму\n",
    "    # обьясность даже не надо все по пунктам расписано в услония задачи\n",
    "    while (a%2 == 0 and b%2 == 0):\n",
    "        a = a/2\n",
    "        b = b/2\n",
    "        g = 2*g\n",
    "    u = a\n",
    "    v = b\n",
    "    A = 1\n",
    "    B = 0\n",
    "    C = 0\n",
    "    D = 1\n",
    "    while u!=0:\n",
    "        if u%2 == 0:\n",
    "            u = u/2\n",
    "            if A%2 == 0 and B%2 == 0:\n",
    "                A = A/2\n",
    "                B = B/2\n",
    "            else:\n",
    "                A = (A+b)/2\n",
    "                B = (B-a)/2\n",
    "        if v%2 == 0:\n",
    "            v = v/2\n",
    "            if C%2 == 0 and D%2 == 0:\n",
    "                C = C/2\n",
    "                D = D/2\n",
    "            else:\n",
    "                C = (C+b)/2\n",
    "                D = (D-a)/2\n",
    "        if u>=v:\n",
    "            u = u-v\n",
    "            A = A-C\n",
    "            B = B-D\n",
    "        else:\n",
    "            v = v-u\n",
    "            C = C-A\n",
    "            D = D-B\n",
    "    d = g*v\n",
    "    x = C\n",
    "    y = D\n",
    "    return(d, x ,y)\n",
    "    "
   ]
  },
  {
   "cell_type": "code",
   "execution_count": 28,
   "id": "dd2fb96f-544b-454f-a5d6-23fa6c3711b3",
   "metadata": {},
   "outputs": [],
   "source": [
    "a = 58\n",
    "b = 22"
   ]
  },
  {
   "cell_type": "code",
   "execution_count": 29,
   "id": "db1772ff-3f70-4d07-acdb-7b5db85a1c2d",
   "metadata": {},
   "outputs": [
    {
     "name": "stdout",
     "output_type": "stream",
     "text": [
      "вызоваем функция евклида : \n"
     ]
    },
    {
     "data": {
      "text/plain": [
       "2"
      ]
     },
     "execution_count": 29,
     "metadata": {},
     "output_type": "execute_result"
    }
   ],
   "source": [
    "print(\"вызоваем функция евклида : \")\n",
    "euklid_simply(a, b)"
   ]
  },
  {
   "cell_type": "code",
   "execution_count": 30,
   "id": "57f333ba-1589-41cc-89a6-4a4502231a3f",
   "metadata": {},
   "outputs": [
    {
     "name": "stdout",
     "output_type": "stream",
     "text": [
      "вызоваем функция расширенного евклида :\n"
     ]
    },
    {
     "data": {
      "text/plain": [
       "(2, -3, 8)"
      ]
     },
     "execution_count": 30,
     "metadata": {},
     "output_type": "execute_result"
    }
   ],
   "source": [
    "print(\"вызоваем функция расширенного евклида :\")\n",
    "euklid_ext(a, b)"
   ]
  },
  {
   "cell_type": "code",
   "execution_count": 31,
   "id": "9312e8f4-fc08-4486-b2a7-4246e177c698",
   "metadata": {},
   "outputs": [
    {
     "name": "stdout",
     "output_type": "stream",
     "text": [
      "вызоваем Функция бинарного евклида : \n"
     ]
    },
    {
     "data": {
      "text/plain": [
       "2.0"
      ]
     },
     "execution_count": 31,
     "metadata": {},
     "output_type": "execute_result"
    }
   ],
   "source": [
    "print(\"вызоваем Функция бинарного евклида : \")\n",
    "euklid_bin(a, b)"
   ]
  },
  {
   "cell_type": "code",
   "execution_count": 32,
   "id": "5a728814-c683-459a-858c-85154da9e27c",
   "metadata": {},
   "outputs": [
    {
     "name": "stdout",
     "output_type": "stream",
     "text": [
      "вызоваем функция расширенного бинарного евклида : \n"
     ]
    },
    {
     "data": {
      "text/plain": [
       "(2.0, -3.0, 8.0)"
      ]
     },
     "execution_count": 32,
     "metadata": {},
     "output_type": "execute_result"
    }
   ],
   "source": [
    "print(\"вызоваем функция расширенного бинарного евклида : \")\n",
    "euklid_bin_ext(a, b)"
   ]
  },
  {
   "cell_type": "code",
   "execution_count": null,
   "id": "d1672c2b-a968-4f8e-808e-9689e76b381d",
   "metadata": {},
   "outputs": [],
   "source": []
  }
 ],
 "metadata": {
  "kernelspec": {
   "display_name": "Python 3 (ipykernel)",
   "language": "python",
   "name": "python3"
  },
  "language_info": {
   "codemirror_mode": {
    "name": "ipython",
    "version": 3
   },
   "file_extension": ".py",
   "mimetype": "text/x-python",
   "name": "python",
   "nbconvert_exporter": "python",
   "pygments_lexer": "ipython3",
   "version": "3.12.0"
  }
 },
 "nbformat": 4,
 "nbformat_minor": 5
}
