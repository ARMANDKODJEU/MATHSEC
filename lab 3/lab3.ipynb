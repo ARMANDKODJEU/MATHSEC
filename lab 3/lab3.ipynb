{
 "cells": [
  {
   "cell_type": "code",
   "execution_count": 13,
   "id": "f380d929-9c2f-43a5-bcc0-424f3eea376a",
   "metadata": {},
   "outputs": [],
   "source": [
    "def main():\n",
    "    dict = {\"а\" :1, \"б\" :2 , \"в\" :3 ,\"г\" :4 ,\"д\" :5 ,\"е\" :6 ,\"ё\" :7 ,\"ж\": 8, \"з\": 9, \"и\": 10, \"й\": 11, \"к\": 12, \"л\": 13,\n",
    "            \"м\": 14, \"н\": 15, \"о\": 16, \"п\": 17,\n",
    "            \"р\": 18, \"с\": 19, \"т\": 20, \"у\": 21, \"ф\": 22, \"х\": 23, \"ц\": 24, \"ч\": 25, \"ш\": 26, \"щ\": 27, \"ъ\": 28,\n",
    "            \"ы\": 29, \"ь\": 30, \"э\": 31, \"ю\": 32, \"я\": 32\n",
    "            }\n",
    "    dict2 = {v: k for k, v in dict.items()}\n",
    "    gamma = input(\"Введите гамму: \")\n",
    "    text = input(\"Введите текст: \")\n",
    "    listofdigitsoftext = list()\n",
    "    listofdigitsofgamma = list()\n",
    "    for i in text:\n",
    "        listofdigitsoftext.append(dict[i])\n",
    "    print(\"Числа текста: \", listofdigitsoftext)\n",
    "    for i in gamma:\n",
    "        listofdigitsofgamma.append(dict[i])\n",
    "    print(\"Числа гаммы: \", listofdigitsofgamma)\n",
    "    listofdigitsresult = list()\n",
    "    ch = 0\n",
    "    for i in text:\n",
    "        try:\n",
    "            a = dict[i] + listofdigitsofgamma[ch]\n",
    "        except:\n",
    "            ch = 0\n",
    "            a = dict[i] + listofdigitsofgamma[ch]\n",
    "        if a>=33:\n",
    "            a = a%33\n",
    "        ch += 1\n",
    "        listofdigitsresult.append(a)\n",
    "    print(\"Числа шифротекста: \", listofdigitsresult)\n",
    "    text_enc = \"\"\n",
    "    for i in listofdigitsresult:\n",
    "        text_enc += dict2[i]\n",
    "    print(\"Зашифрованный текст: \", text_enc)\n",
    "    listofdigits = list()\n",
    "    for i in text_enc:\n",
    "        listofdigits.append(dict[i])\n",
    "    ch = 0\n",
    "    listofdigits1 = list()\n",
    "    for i in listofdigits:\n",
    "        a = i - listofdigitsofgamma[ch]\n",
    "        if a < 1:\n",
    "            a = 33 + a\n",
    "        listofdigits1.append(a)\n",
    "        ch += 1\n",
    "    textdecrypted = \"\"\n",
    "    for i in listofdigits1:\n",
    "        textdecrypted += dict2[i]\n",
    "    print(\"Расшифрованный текст: \", textdecrypted)"
   ]
  },
  {
   "cell_type": "code",
   "execution_count": 15,
   "id": "cd4a1c8e-dfba-49aa-a65b-6fd434dcfd20",
   "metadata": {},
   "outputs": [
    {
     "name": "stdin",
     "output_type": "stream",
     "text": [
      "Введите гамму:  винни\n",
      "Введите текст:  водка\n"
     ]
    },
    {
     "name": "stdout",
     "output_type": "stream",
     "text": [
      "Числа текста:  [3, 16, 5, 12, 1]\n",
      "Числа гаммы:  [3, 10, 15, 15, 10]\n",
      "Числа шифротекста:  [6, 26, 20, 27, 11]\n",
      "Зашифрованный текст:  ештщй\n",
      "Расшифрованный текст:  водка\n"
     ]
    }
   ],
   "source": [
    "main ()"
   ]
  },
  {
   "cell_type": "code",
   "execution_count": null,
   "id": "2d30ccea-9dcc-4843-bc1d-496079799f9b",
   "metadata": {},
   "outputs": [],
   "source": []
  }
 ],
 "metadata": {
  "kernelspec": {
   "display_name": "Python 3 (ipykernel)",
   "language": "python",
   "name": "python3"
  },
  "language_info": {
   "codemirror_mode": {
    "name": "ipython",
    "version": 3
   },
   "file_extension": ".py",
   "mimetype": "text/x-python",
   "name": "python",
   "nbconvert_exporter": "python",
   "pygments_lexer": "ipython3",
   "version": "3.12.0"
  }
 },
 "nbformat": 4,
 "nbformat_minor": 5
}
