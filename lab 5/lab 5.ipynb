{
 "cells": [
  {
   "cell_type": "code",
   "execution_count": 1,
   "id": "6d211d15-a17b-4aa8-bb2c-88c7a126d9eb",
   "metadata": {},
   "outputs": [],
   "source": [
    "import random"
   ]
  },
  {
   "cell_type": "markdown",
   "id": "98a56dbd-9850-452d-a91d-459a96967e41",
   "metadata": {},
   "source": [
    "<h5>Алгоритм, реализующий тест Ферма</h5>"
   ]
  },
  {
   "cell_type": "code",
   "execution_count": 54,
   "id": "5f63f965-49c7-4938-9442-6f2679380b2a",
   "metadata": {},
   "outputs": [],
   "source": [
    "def Ferma(n, test_count):\n",
    "    for i in range(test_count):\n",
    "        a = random.randint(2, n-1)\n",
    "        if ( a**(n-1)%n != 1 ):\n",
    "            print(\"Число Составное\")\n",
    "            return False\n",
    "    print(\"Вероятно,Простое\")\n",
    "    return True"
   ]
  },
  {
   "cell_type": "code",
   "execution_count": null,
   "id": "33f6cf69-9d39-4290-b437-a43b3d1b7887",
   "metadata": {},
   "outputs": [],
   "source": []
  },
  {
   "cell_type": "code",
   "execution_count": 85,
   "id": "0c4da544-dcb4-4e33-8d27-db4260292aed",
   "metadata": {},
   "outputs": [],
   "source": [
    "def modulo(base, exponent, mod):\n",
    "    x = 1\n",
    "    y = base\n",
    "    while (exponent > 0):\n",
    "        if (exponent%2 == 1):\n",
    "            x = (x*y)%mod\n",
    "        y = (y*y)%mod\n",
    "        exponent = exponent//2\n",
    "    return x%mod"
   ]
  },
  {
   "cell_type": "markdown",
   "id": "b9afefbf-c678-4f9c-b076-d0a53debd47e",
   "metadata": {},
   "source": [
    "<h5> Алгоритм вычисления символа якоби</h5>\n"
   ]
  },
  {
   "cell_type": "code",
   "execution_count": 55,
   "id": "b4f36fac-82c3-4878-abd4-a17fec5fb4ac",
   "metadata": {},
   "outputs": [],
   "source": [
    "def calculateJacobian(a, n):\n",
    "    if (a == 0):\n",
    "        return 0\n",
    "    ans = 1\n",
    "    if (a < 0):\n",
    "        a = -a\n",
    "        if (n%4 == 3):\n",
    "            ans = -ans\n",
    "    if (a == 1):\n",
    "        return ans\n",
    "    while (a):\n",
    "        if (a < 0):\n",
    "            a = -a\n",
    "            if (n%4 == 3):\n",
    "                ans = -ans\n",
    "        while (a%2 == 0):\n",
    "            a = a//2\n",
    "            if (n%8 == 3 or n%8 == 5):\n",
    "                ans = -ans\n",
    "        a, n = n, a\n",
    "        if (a%4 == 3 and n%4 == 3):\n",
    "            ans = -ans\n",
    "        a = a%n\n",
    "        if (a > n//2):\n",
    "            a = a - n\n",
    "    if(n == 1):\n",
    "        return ans\n",
    "    return 0"
   ]
  },
  {
   "cell_type": "markdown",
   "id": "8b839194-497a-48a6-8b21-7bb06ad09abe",
   "metadata": {},
   "source": [
    "<h5> Алгоритм, реализующий Тест Соловэя-Штрассена</h5>"
   ]
  },
  {
   "cell_type": "code",
   "execution_count": 56,
   "id": "c19702ee-88c7-4985-9d64-55de7990ffe4",
   "metadata": {},
   "outputs": [],
   "source": [
    "def SoloveiStrassen(p, iterations):\n",
    "    if (p < 2):\n",
    "        print(\"Число Составное\")\n",
    "        return False\n",
    "    if (p != 2 and p%2 == 0):\n",
    "        print(\"Число Составное\")\n",
    "        return False\n",
    "    for i in range(iterations):\n",
    "       a = random.randrange(p - 1) + 1\n",
    "    jacobian = (p + calculateJacobian(a, p))%p\n",
    "    mod = modulo(a, (p - 1)/2, p)\n",
    "    if (jacobian == 0 or mod != jacobian):\n",
    "        print(\"Число Составное\")\n",
    "        return False\n",
    "    return True"
   ]
  },
  {
   "cell_type": "markdown",
   "id": "545e3af5-f5e0-4678-a3b0-da1c97b2d785",
   "metadata": {},
   "source": [
    "<h5> Алгоритм, реализующий Тест Миллера-Рабина.</h5>"
   ]
  },
  {
   "cell_type": "code",
   "execution_count": 57,
   "id": "11b4e575-4f8b-4fe7-9feb-546bee8cff79",
   "metadata": {},
   "outputs": [],
   "source": [
    "def MillerRabin(n):\n",
    "    if n != int(n):\n",
    "        print(\"Число Составное\")\n",
    "        return False\n",
    "    n = int(n)\n",
    "    if n == 0 or n == 1 or n == 4 or n == 6 or n == 8 or n == 9:\n",
    "        print(\"Число Составное\")\n",
    "        return False\n",
    "    if n == 2 or n == 3 or n == 5 or n == 7:\n",
    "        print(\"Вероятно, Простое\")\n",
    "        return True\n",
    "    s = 0\n",
    "    d = n - 1\n",
    "    while d%2 == 0:\n",
    "        d >>= 1\n",
    "        s += 1\n",
    "    assert(2**s*d == n-1)\n",
    "    \n",
    "    def trial_compose(a):\n",
    "        if pow(a, d, n) == 1:\n",
    "            print(\"Число Составное\")\n",
    "            return False\n",
    "        for i in range(s):\n",
    "            if pow(a, 2**i*d, n) == n - 1:\n",
    "                print(\"Число Составное\")\n",
    "                return False\n",
    "        print(\"Простое\")\n",
    "        return True\n",
    "    \n",
    "    for i in range(8):\n",
    "        a = random.randrange(2, n)\n",
    "        if trial_compose(a):\n",
    "            print(\"Число Составное\")\n",
    "            return False\n",
    "    print(\"Простое\")\n",
    "    return True"
   ]
  },
  {
   "cell_type": "code",
   "execution_count": 86,
   "id": "f67163e1-54e6-4d81-a07b-ef5445627788",
   "metadata": {},
   "outputs": [],
   "source": [
    "n = 3000"
   ]
  },
  {
   "cell_type": "code",
   "execution_count": 87,
   "id": "3a89f86b-e10a-4bcd-b65b-0c053a07c1d3",
   "metadata": {},
   "outputs": [
    {
     "name": "stdout",
     "output_type": "stream",
     "text": [
      "Число Составное\n"
     ]
    },
    {
     "data": {
      "text/plain": [
       "False"
      ]
     },
     "execution_count": 87,
     "metadata": {},
     "output_type": "execute_result"
    }
   ],
   "source": [
    "Ferma(n, 409)"
   ]
  },
  {
   "cell_type": "code",
   "execution_count": 88,
   "id": "145c0e35-2212-4c05-8b18-c773e3dc9bf5",
   "metadata": {},
   "outputs": [
    {
     "data": {
      "text/plain": [
       "1"
      ]
     },
     "execution_count": 88,
     "metadata": {},
     "output_type": "execute_result"
    }
   ],
   "source": [
    "calculateJacobian(409, n)"
   ]
  },
  {
   "cell_type": "code",
   "execution_count": 89,
   "id": "4674dffb-4235-4a5c-872f-bcab3ae9cfa8",
   "metadata": {},
   "outputs": [
    {
     "name": "stdout",
     "output_type": "stream",
     "text": [
      "Число Составное\n"
     ]
    },
    {
     "data": {
      "text/plain": [
       "False"
      ]
     },
     "execution_count": 89,
     "metadata": {},
     "output_type": "execute_result"
    }
   ],
   "source": [
    "SoloveiStrassen(n, 409)"
   ]
  },
  {
   "cell_type": "code",
   "execution_count": 84,
   "id": "6ef14e17-2324-4f94-a6d5-e602fbdc203f",
   "metadata": {},
   "outputs": [
    {
     "name": "stdout",
     "output_type": "stream",
     "text": [
      "Простое\n",
      "Число Составное\n"
     ]
    },
    {
     "data": {
      "text/plain": [
       "False"
      ]
     },
     "execution_count": 84,
     "metadata": {},
     "output_type": "execute_result"
    }
   ],
   "source": [
    "MillerRabin(n)"
   ]
  },
  {
   "cell_type": "code",
   "execution_count": null,
   "id": "1388fb58-28b8-4ba8-a3f0-f462ba1d5caa",
   "metadata": {},
   "outputs": [],
   "source": []
  }
 ],
 "metadata": {
  "kernelspec": {
   "display_name": "Python 3 (ipykernel)",
   "language": "python",
   "name": "python3"
  },
  "language_info": {
   "codemirror_mode": {
    "name": "ipython",
    "version": 3
   },
   "file_extension": ".py",
   "mimetype": "text/x-python",
   "name": "python",
   "nbconvert_exporter": "python",
   "pygments_lexer": "ipython3",
   "version": "3.12.0"
  }
 },
 "nbformat": 4,
 "nbformat_minor": 5
}
