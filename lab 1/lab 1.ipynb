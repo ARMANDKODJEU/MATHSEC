{
 "cells": [
  {
   "cell_type": "markdown",
   "id": "9595fd14-7e06-4792-8dcd-52ba0399056a",
   "metadata": {},
   "source": [
    "<ul>\n",
    "<li><h3> Кодже Лемонго Арман </h3></li>\n",
    "<li><h3> НФИмд-01-24 </h3></li>\n",
    "<li><h3> Билет № 1032245759 </h3></li>\n",
    "</ul>"
   ]
  },
  {
   "cell_type": "markdown",
   "id": "8960a0fc-c8db-49d9-afc6-68a593d6bfb6",
   "metadata": {},
   "source": [
    "<h3> Лабораторная работа №1 : </h3> <p>Шифр простой замены</p> "
   ]
  },
  {
   "cell_type": "code",
   "execution_count": 13,
   "id": "e1a51d83-fe0f-4ca3-8204-4ecec6f9a9ae",
   "metadata": {},
   "outputs": [],
   "source": [
    "# функция шифрования по алгоритму цезаря\n",
    "def cesar(text, step):\n",
    "    alph = 'ABCDEFGHIJKLMNOPQRSTUVWXYZABCDEFGHIJKLMNOPQRSTUVWXYZ'\n",
    "    res = ''\n",
    "    for i in text:\n",
    "        index = alph.find(i)\n",
    "        n_index = index + step\n",
    "        if i in alph:\n",
    "            res += alph[n_index]\n",
    "        else:\n",
    "            res += i\n",
    "    return res"
   ]
  },
  {
   "cell_type": "code",
   "execution_count": 18,
   "id": "fcacb531-77ca-4601-9f5e-e1242bdc3bab",
   "metadata": {},
   "outputs": [],
   "source": [
    "def dec_cesar(text, step):\n",
    "    alph = 'ABCDEFGHIJKLMNOPQRSTUVWXYZABCDEFGHIJKLMNOPQRSTUVWXYZ'\n",
    "    res = ''\n",
    "    for i in text:\n",
    "        index = alph.find(i)\n",
    "        n_index = index - step\n",
    "        if i in alph:\n",
    "            res += alph[n_index]\n",
    "        else:\n",
    "            res += i\n",
    "    return res"
   ]
  },
  {
   "cell_type": "code",
   "execution_count": 20,
   "id": "c4ac2db4-3ebd-46bb-a184-58d9dd5693e6",
   "metadata": {},
   "outputs": [
    {
     "name": "stdout",
     "output_type": "stream",
     "text": [
      "CESAR : GIWEV : CESAR\n"
     ]
    }
   ],
   "source": [
    "s = 'CESAR'\n",
    "print (f'{s} : {cesar(s, 4)} : {dec_cesar(cesar(s, 4), 4)}')"
   ]
  },
  {
   "cell_type": "code",
   "execution_count": 37,
   "id": "f81cd7e1-1172-427b-b97b-196ad5c72ce1",
   "metadata": {},
   "outputs": [
    {
     "name": "stdout",
     "output_type": "stream",
     "text": [
      "WELCOME : AIPGSQI : WELCOME\n"
     ]
    }
   ],
   "source": [
    "s = 'WELCOME'\n",
    "print (f'{s} : {cesar(s, 4)} : {dec_cesar(cesar(s, 4), 4)}')"
   ]
  },
  {
   "cell_type": "code",
   "execution_count": 25,
   "id": "52b9e00e-daef-456b-a73d-94865a091992",
   "metadata": {},
   "outputs": [],
   "source": [
    "def atbash(text):\n",
    "    alph = 'ABCDEFGHIJKLMNOPQRSTUVWXYZ'\n",
    "    alph_r = [x for x in alph]\n",
    "    alph_r.reverse()\n",
    "    res =''\n",
    "    for i in text:\n",
    "        for j,l in enumerate(alph):\n",
    "            if i == l:\n",
    "                res += alph_r[j]\n",
    "    return res"
   ]
  },
  {
   "cell_type": "code",
   "execution_count": 31,
   "id": "fef85f60-152f-4429-a52e-ce340a9839db",
   "metadata": {},
   "outputs": [],
   "source": [
    "def dec_atbash(text):\n",
    "    alph = 'ABCDEFGHIJKLMNOPQRSTUVWXYZ'\n",
    "    alph_r = [x for x in alph]\n",
    "    alph_r.reverse()\n",
    "    res = ''\n",
    "    for i in text:\n",
    "        for j,l in enumerate(alph_r):\n",
    "            if i == l:\n",
    "                res += alph[j]\n",
    "    return res"
   ]
  },
  {
   "cell_type": "code",
   "execution_count": 33,
   "id": "123956a0-77a5-4a65-a1c8-4bbf83b50664",
   "metadata": {},
   "outputs": [
    {
     "name": "stdout",
     "output_type": "stream",
     "text": [
      "ATBASH : ZGYZHS : ATBASH\n"
     ]
    }
   ],
   "source": [
    "s = 'ATBASH'\n",
    "print (f'{s} : {atbash(s)} : {dec_atbash(atbash(s))}')"
   ]
  },
  {
   "cell_type": "code",
   "execution_count": 36,
   "id": "0678139f-ff59-4307-bdc4-f3d9a855d92f",
   "metadata": {},
   "outputs": [
    {
     "name": "stdout",
     "output_type": "stream",
     "text": [
      "WELCOME : DVOXLNV : WELCOME\n"
     ]
    }
   ],
   "source": [
    "s = 'WELCOME'\n",
    "print (f'{s} : {atbash(s)} : {dec_atbash(atbash(s))}')"
   ]
  },
  {
   "cell_type": "code",
   "execution_count": null,
   "id": "111e8836-c85e-4d1b-8ee8-68f6e0b7d28c",
   "metadata": {},
   "outputs": [],
   "source": []
  }
 ],
 "metadata": {
  "kernelspec": {
   "display_name": "Python 3 (ipykernel)",
   "language": "python",
   "name": "python3"
  },
  "language_info": {
   "codemirror_mode": {
    "name": "ipython",
    "version": 3
   },
   "file_extension": ".py",
   "mimetype": "text/x-python",
   "name": "python",
   "nbconvert_exporter": "python",
   "pygments_lexer": "ipython3",
   "version": "3.12.0"
  }
 },
 "nbformat": 4,
 "nbformat_minor": 5
}
