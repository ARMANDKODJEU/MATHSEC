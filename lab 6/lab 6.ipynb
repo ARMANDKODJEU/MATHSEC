{
 "cells": [
  {
   "cell_type": "markdown",
   "id": "c48f33dd-7ae5-4ddd-81d2-ba6c962ea0b5",
   "metadata": {},
   "source": [
    "<p> Реализовать рассмотренный алгоритм программно</p>"
   ]
  },
  {
   "cell_type": "code",
   "execution_count": 3,
   "id": "26b8ca23-ff70-4a19-82fa-5dd3370b1ff5",
   "metadata": {},
   "outputs": [],
   "source": [
    "from math import gcd"
   ]
  },
  {
   "cell_type": "code",
   "execution_count": 10,
   "id": "64ff07ba-3672-4874-8a32-4ad0a33e1750",
   "metadata": {},
   "outputs": [],
   "source": [
    "def fu(n, a, b, d):\n",
    "    a = f(a, n)\n",
    "    b = f(f(b, n), n)\n",
    "    d = gcd(a-b, n)\n",
    "    if 1<d<n:\n",
    "        print(d)\n",
    "        exit()\n",
    "    if d == n:\n",
    "        print(\"Деитель не найден \")\n",
    "    if d == 1:\n",
    "        fu(n, a, b, d)"
   ]
  },
  {
   "cell_type": "markdown",
   "id": "b3aee4fd-0e7d-4d3d-8394-23aaf6039b7c",
   "metadata": {},
   "source": [
    "<p> Разложить на множители данное преподавателем число</p>"
   ]
  },
  {
   "cell_type": "code",
   "execution_count": 14,
   "id": "5c024505-24f2-499e-8df8-de971943a7ce",
   "metadata": {},
   "outputs": [],
   "source": [
    "def f(x, n):\n",
    "    return (x*x+5)%n"
   ]
  },
  {
   "cell_type": "code",
   "execution_count": 20,
   "id": "8cb86646-5389-4618-a475-c19e965dbe2c",
   "metadata": {},
   "outputs": [],
   "source": [
    "def main():\n",
    "    n = 1359331\n",
    "    c = 1\n",
    "    a = f(c, n)\n",
    "    b = f(a, n)\n",
    "    d = gcd(a-b, n)\n",
    "    if 1< d < n:\n",
    "        print(d)\n",
    "        exit()\n",
    "    if d == n:\n",
    "        pass\n",
    "    if d == 1:\n",
    "        fu(n, a, b, d)"
   ]
  },
  {
   "cell_type": "code",
   "execution_count": 21,
   "id": "f5117c32-c308-4b24-a8c4-520559459622",
   "metadata": {},
   "outputs": [
    {
     "name": "stdout",
     "output_type": "stream",
     "text": [
      "1181\n"
     ]
    }
   ],
   "source": [
    "main()"
   ]
  },
  {
   "cell_type": "code",
   "execution_count": null,
   "id": "0e81f616-e1eb-4324-a81f-5440a3b2971a",
   "metadata": {},
   "outputs": [],
   "source": []
  }
 ],
 "metadata": {
  "kernelspec": {
   "display_name": "Python 3 (ipykernel)",
   "language": "python",
   "name": "python3"
  },
  "language_info": {
   "codemirror_mode": {
    "name": "ipython",
    "version": 3
   },
   "file_extension": ".py",
   "mimetype": "text/x-python",
   "name": "python",
   "nbconvert_exporter": "python",
   "pygments_lexer": "ipython3",
   "version": "3.12.0"
  }
 },
 "nbformat": 4,
 "nbformat_minor": 5
}
